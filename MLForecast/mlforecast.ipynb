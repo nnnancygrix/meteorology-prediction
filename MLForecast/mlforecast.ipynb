{
 "cells": [
  {
   "cell_type": "code",
   "execution_count": null,
   "metadata": {},
   "outputs": [],
   "source": [
    "import pandas as pd\n",
    "import numpy as np\n",
    "import itertools\n",
    "import seaborn as sns\n",
    "import warnings\n",
    "warnings.filterwarnings(\"ignore\")\n",
    "import matplotlib.pyplot as plt\n",
    "from sklearn.metrics import mean_squared_error\n",
    "from statsmodels.tsa.statespace.sarimax import SARIMAX\n",
    "from sklearn.base import BaseEstimator, RegressorMixin\n",
    "from mlforecast import MLForecast\n",
    "from mlforecast.lag_transforms import ExpandingMean, RollingMean\n",
    "from mlforecast.target_transforms import Differences\n",
    "from mlforecast.utils import generate_daily_series\n",
    "from tqdm import tqdm\n"
   ]
  },
  {
   "cell_type": "code",
   "execution_count": null,
   "metadata": {},
   "outputs": [],
   "source": [
    "# Read data\n",
    "DATA_PATH = '../data-preprocessing/VinhLong_data.csv'\n",
    "data = pd.read_csv(DATA_PATH)"
   ]
  },
  {
   "cell_type": "code",
   "execution_count": null,
   "metadata": {},
   "outputs": [],
   "source": [
    "data = data[data['Nhiệt độ'] <= 60]\n",
    "data['Ngày'] = pd.to_datetime(data['Ngày'], format='%d/%m/%Y')\n",
    "data['Giờ'] = pd.to_datetime(data['Giờ'], format='%H:%M').dt.time\n",
    "data['Datetime'] = pd.to_datetime(data['Ngày'].astype(str) + ' ' + data['Giờ'].astype(str))\n",
    "data.set_index('Datetime', inplace=True)\n",
    "data.drop(['Ngày', 'Giờ'], axis=1, inplace=True)\n",
    "data.replace(['-', ''], np.nan, inplace=True)\n",
    "data.dropna(inplace=True)\n",
    "data = data.apply(pd.to_numeric, errors='ignore')"
   ]
  },
  {
   "cell_type": "code",
   "execution_count": null,
   "metadata": {},
   "outputs": [],
   "source": [
    "hourly_data = data.resample('H').mean()\n",
    "hourly_data.replace(['-', ''], np.nan, inplace=True)\n",
    "hourly_data.dropna(inplace=True)\n",
    "hourly_data = hourly_data.apply(pd.to_numeric, errors='ignore')\n",
    "hourly_data = hourly_data.rename(columns={'Nhiệt độ': 'y'})\n",
    "hourly_data = hourly_data.reset_index().rename(columns={'Datetime': 'ds'})"
   ]
  },
  {
   "cell_type": "code",
   "execution_count": null,
   "metadata": {},
   "outputs": [],
   "source": [
    "hourly_data['unique_id'] = 'series_1'\n"
   ]
  },
  {
   "cell_type": "code",
   "execution_count": null,
   "metadata": {},
   "outputs": [],
   "source": [
    "data_length = len(hourly_data)\n",
    "train_idx = int(data_length * 0.80)\n",
    "test_idx = int(data_length * 0.20)\n",
    "\n",
    "train = hourly_data[:train_idx]\n",
    "test = hourly_data[train_idx:]"
   ]
  },
  {
   "cell_type": "code",
   "execution_count": null,
   "metadata": {},
   "outputs": [],
   "source": [
    "print(f\"Train Shape: {train.shape}\")\n",
    "print(f\"Test Shape: {test.shape}\")"
   ]
  },
  {
   "cell_type": "code",
   "execution_count": null,
   "metadata": {},
   "outputs": [],
   "source": [
    "class SARIMAXWrapper(BaseEstimator, RegressorMixin):\n",
    "    def __init__(self, order=(1, 1, 1), seasonal_order=(1, 1, 1, 12)):\n",
    "        self.order = order\n",
    "        self.seasonal_order = seasonal_order\n",
    "        self.model_ = None\n",
    "\n",
    "    def fit(self, X, y):\n",
    "        self.model_ = SARIMAX(y, exog=X, order=self.order, seasonal_order=self.seasonal_order)\n",
    "        self.results_ = self.model_.fit(disp=False)\n",
    "        return self\n",
    "\n",
    "    def predict(self, X):\n",
    "        return self.results_.get_forecast(steps=len(X), exog=X).predicted_mean"
   ]
  },
  {
   "cell_type": "code",
   "execution_count": null,
   "metadata": {},
   "outputs": [],
   "source": [
    "sarimax_model = SARIMAXWrapper(order=(1, 1, 1), seasonal_order=(1, 1, 1, 12))\n"
   ]
  },
  {
   "cell_type": "code",
   "execution_count": 26,
   "metadata": {},
   "outputs": [],
   "source": [
    "from window_ops.rolling import rolling_mean"
   ]
  },
  {
   "cell_type": "code",
   "execution_count": 32,
   "metadata": {},
   "outputs": [
    {
     "name": "stdout",
     "output_type": "stream",
     "text": [
      "  unique_id                  ds  SARIMAXWrapper Actual\n",
      "0  series_1 2024-02-21 08:00:00       23.749098   None\n",
      "1  series_1 2024-02-21 09:00:00       24.108786   None\n",
      "2  series_1 2024-02-21 10:00:00       24.167354   None\n",
      "3  series_1 2024-02-21 11:00:00       23.109395   None\n",
      "4  series_1 2024-02-21 12:00:00       22.258986   None\n",
      "5  series_1 2024-02-21 13:00:00       21.896000   None\n",
      "6  series_1 2024-02-21 14:00:00       20.816184   None\n",
      "7  series_1 2024-02-21 15:00:00       19.901083   None\n",
      "8  series_1 2024-02-21 16:00:00       19.185840   None\n",
      "9  series_1 2024-02-21 17:00:00       18.849851   None\n"
     ]
    }
   ],
   "source": [
    "forecast = MLForecast(\n",
    "    models=[sarimax_model],\n",
    "    freq='H',\n",
    "    lags=[1, 7, 14],\n",
    "    lag_transforms={\n",
    "        1: [(rolling_mean, 3), (rolling_mean, 7), (rolling_mean, 28)],\n",
    "    },\n",
    "    target_transforms=[Differences([1])]\n",
    ")\n",
    "\n",
    "forecast.fit(hourly_data, id_col='unique_id', time_col='ds', target_col='y')\n",
    "\n",
    "horizon = 10\n",
    "\n",
    "predictions = forecast.predict(h=horizon)\n",
    "\n",
    "predicted_dates = predictions['ds']\n",
    "\n",
    "actual_values = hourly_data[hourly_data['ds'].isin(predicted_dates)]['y']\n",
    "\n",
    "results = predictions.copy()\n",
    "results['Actual'] = actual_values.values if not actual_values.empty else None\n",
    "\n",
    "print(results)\n"
   ]
  }
 ],
 "metadata": {
  "kernelspec": {
   "display_name": "base",
   "language": "python",
   "name": "python3"
  },
  "language_info": {
   "codemirror_mode": {
    "name": "ipython",
    "version": 3
   },
   "file_extension": ".py",
   "mimetype": "text/x-python",
   "name": "python",
   "nbconvert_exporter": "python",
   "pygments_lexer": "ipython3",
   "version": "3.11.5"
  }
 },
 "nbformat": 4,
 "nbformat_minor": 2
}
