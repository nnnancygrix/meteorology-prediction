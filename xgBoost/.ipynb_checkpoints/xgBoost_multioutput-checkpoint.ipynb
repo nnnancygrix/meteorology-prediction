{
 "cells": [
  {
   "cell_type": "code",
   "execution_count": 1,
   "metadata": {},
   "outputs": [],
   "source": [
    "import pandas as pd\n",
    "import numpy as np\n",
    "from sklearn.impute import SimpleImputer\n",
    "from sklearn.model_selection import train_test_split\n",
    "from xgboost import XGBClassifier\n",
    "from xgboost import XGBRegressor\n",
    "from sklearn.metrics import mean_absolute_error\n",
    "import matplotlib.pyplot as plt\n",
    "from sklearn.metrics import accuracy_score"
   ]
  },
  {
   "cell_type": "code",
   "execution_count": 2,
   "metadata": {},
   "outputs": [],
   "source": [
    "# Load the dataset\n",
    "DATA_PATH = '../data-preprocessing/VinhLong_data.csv'\n",
    "data = pd.read_csv(DATA_PATH)\n",
    "data = data[data['Nhiệt độ'] <= 60]"
   ]
  },
  {
   "cell_type": "code",
   "execution_count": 3,
   "metadata": {},
   "outputs": [
    {
     "data": {
      "text/html": [
       "<div>\n",
       "<style scoped>\n",
       "    .dataframe tbody tr th:only-of-type {\n",
       "        vertical-align: middle;\n",
       "    }\n",
       "\n",
       "    .dataframe tbody tr th {\n",
       "        vertical-align: top;\n",
       "    }\n",
       "\n",
       "    .dataframe thead th {\n",
       "        text-align: right;\n",
       "    }\n",
       "</style>\n",
       "<table border=\"1\" class=\"dataframe\">\n",
       "  <thead>\n",
       "    <tr style=\"text-align: right;\">\n",
       "      <th></th>\n",
       "      <th>Nhiệt độ</th>\n",
       "      <th>Độ ẩm</th>\n",
       "      <th>Khí áp</th>\n",
       "      <th>T.độ gió</th>\n",
       "      <th>H. gió</th>\n",
       "    </tr>\n",
       "    <tr>\n",
       "      <th>Datetime</th>\n",
       "      <th></th>\n",
       "      <th></th>\n",
       "      <th></th>\n",
       "      <th></th>\n",
       "      <th></th>\n",
       "    </tr>\n",
       "  </thead>\n",
       "  <tbody>\n",
       "    <tr>\n",
       "      <th>2014-01-01 01:00:00</th>\n",
       "      <td>22.2</td>\n",
       "      <td>89</td>\n",
       "      <td>1013.7</td>\n",
       "      <td>1.3</td>\n",
       "      <td>225</td>\n",
       "    </tr>\n",
       "    <tr>\n",
       "      <th>2014-01-01 02:00:00</th>\n",
       "      <td>21.8</td>\n",
       "      <td>90</td>\n",
       "      <td>1012.9</td>\n",
       "      <td>1</td>\n",
       "      <td>270</td>\n",
       "    </tr>\n",
       "    <tr>\n",
       "      <th>2014-01-01 03:00:00</th>\n",
       "      <td>22.8</td>\n",
       "      <td>80</td>\n",
       "      <td>1012.5</td>\n",
       "      <td>3.1</td>\n",
       "      <td>320</td>\n",
       "    </tr>\n",
       "    <tr>\n",
       "      <th>2014-01-01 04:00:00</th>\n",
       "      <td>22.7</td>\n",
       "      <td>80</td>\n",
       "      <td>1012.5</td>\n",
       "      <td>1.2</td>\n",
       "      <td>235</td>\n",
       "    </tr>\n",
       "    <tr>\n",
       "      <th>2014-01-01 05:00:00</th>\n",
       "      <td>22.0</td>\n",
       "      <td>84</td>\n",
       "      <td>1012.5</td>\n",
       "      <td>3.7</td>\n",
       "      <td>319</td>\n",
       "    </tr>\n",
       "  </tbody>\n",
       "</table>\n",
       "</div>"
      ],
      "text/plain": [
       "                     Nhiệt độ Độ ẩm  Khí áp T.độ gió H. gió\n",
       "Datetime                                                   \n",
       "2014-01-01 01:00:00      22.2    89  1013.7      1.3    225\n",
       "2014-01-01 02:00:00      21.8    90  1012.9        1    270\n",
       "2014-01-01 03:00:00      22.8    80  1012.5      3.1    320\n",
       "2014-01-01 04:00:00      22.7    80  1012.5      1.2    235\n",
       "2014-01-01 05:00:00      22.0    84  1012.5      3.7    319"
      ]
     },
     "execution_count": 3,
     "metadata": {},
     "output_type": "execute_result"
    }
   ],
   "source": [
    "data['Ngày'] = pd.to_datetime(data['Ngày'], format='%d/%m/%Y')\n",
    "data['Giờ'] = pd.to_datetime(data['Giờ'], format='%H:%M').dt.time\n",
    "data['Datetime'] = pd.to_datetime(data['Ngày'].astype(str) + ' ' + data['Giờ'].astype(str))\n",
    "data.set_index('Datetime', inplace=True)\n",
    "data.drop(['Ngày', 'Giờ'], axis=1, inplace=True)\n",
    "data.head()"
   ]
  },
  {
   "cell_type": "code",
   "execution_count": 4,
   "metadata": {},
   "outputs": [
    {
     "data": {
      "text/html": [
       "<div>\n",
       "<style scoped>\n",
       "    .dataframe tbody tr th:only-of-type {\n",
       "        vertical-align: middle;\n",
       "    }\n",
       "\n",
       "    .dataframe tbody tr th {\n",
       "        vertical-align: top;\n",
       "    }\n",
       "\n",
       "    .dataframe thead th {\n",
       "        text-align: right;\n",
       "    }\n",
       "</style>\n",
       "<table border=\"1\" class=\"dataframe\">\n",
       "  <thead>\n",
       "    <tr style=\"text-align: right;\">\n",
       "      <th></th>\n",
       "      <th>Nhiệt độ</th>\n",
       "      <th>Độ ẩm</th>\n",
       "      <th>Khí áp</th>\n",
       "      <th>T.độ gió</th>\n",
       "      <th>H. gió</th>\n",
       "    </tr>\n",
       "    <tr>\n",
       "      <th>Datetime</th>\n",
       "      <th></th>\n",
       "      <th></th>\n",
       "      <th></th>\n",
       "      <th></th>\n",
       "      <th></th>\n",
       "    </tr>\n",
       "  </thead>\n",
       "  <tbody>\n",
       "    <tr>\n",
       "      <th>2024-01-15 19:00:00</th>\n",
       "      <td>28.3</td>\n",
       "      <td>65</td>\n",
       "      <td>1011.8</td>\n",
       "      <td>2.2</td>\n",
       "      <td>154</td>\n",
       "    </tr>\n",
       "    <tr>\n",
       "      <th>2024-01-15 20:00:00</th>\n",
       "      <td>27.4</td>\n",
       "      <td>70</td>\n",
       "      <td>1012.1</td>\n",
       "      <td>2.1</td>\n",
       "      <td>152</td>\n",
       "    </tr>\n",
       "    <tr>\n",
       "      <th>2024-01-15 21:00:00</th>\n",
       "      <td>27.0</td>\n",
       "      <td>72</td>\n",
       "      <td>1012.5</td>\n",
       "      <td>0.2</td>\n",
       "      <td>149</td>\n",
       "    </tr>\n",
       "    <tr>\n",
       "      <th>2024-01-15 22:00:00</th>\n",
       "      <td>26.5</td>\n",
       "      <td>75</td>\n",
       "      <td>1012.2</td>\n",
       "      <td>1.3</td>\n",
       "      <td>153</td>\n",
       "    </tr>\n",
       "    <tr>\n",
       "      <th>2024-02-21 07:00:00</th>\n",
       "      <td>24.4</td>\n",
       "      <td>97</td>\n",
       "      <td>1012.6</td>\n",
       "      <td>1.4</td>\n",
       "      <td>142</td>\n",
       "    </tr>\n",
       "  </tbody>\n",
       "</table>\n",
       "</div>"
      ],
      "text/plain": [
       "                     Nhiệt độ  Độ ẩm  Khí áp  T.độ gió  H. gió\n",
       "Datetime                                                      \n",
       "2024-01-15 19:00:00      28.3     65  1011.8       2.2     154\n",
       "2024-01-15 20:00:00      27.4     70  1012.1       2.1     152\n",
       "2024-01-15 21:00:00      27.0     72  1012.5       0.2     149\n",
       "2024-01-15 22:00:00      26.5     75  1012.2       1.3     153\n",
       "2024-02-21 07:00:00      24.4     97  1012.6       1.4     142"
      ]
     },
     "execution_count": 4,
     "metadata": {},
     "output_type": "execute_result"
    }
   ],
   "source": [
    "data.replace(['-', ''], np.nan, inplace=True)\n",
    "data.dropna(inplace=True)\n",
    "data = data.apply(pd.to_numeric, errors='ignore')\n",
    "data.tail()"
   ]
  },
  {
   "cell_type": "code",
   "execution_count": 5,
   "metadata": {},
   "outputs": [
    {
     "name": "stdout",
     "output_type": "stream",
     "text": [
      "Nhiệt độ    0\n",
      "Độ ẩm       0\n",
      "Khí áp      0\n",
      "T.độ gió    0\n",
      "H. gió      0\n",
      "dtype: int64\n"
     ]
    }
   ],
   "source": [
    "print(data.isna().sum())"
   ]
  },
  {
   "cell_type": "code",
   "execution_count": 6,
   "metadata": {},
   "outputs": [
    {
     "data": {
      "text/html": [
       "<div>\n",
       "<style scoped>\n",
       "    .dataframe tbody tr th:only-of-type {\n",
       "        vertical-align: middle;\n",
       "    }\n",
       "\n",
       "    .dataframe tbody tr th {\n",
       "        vertical-align: top;\n",
       "    }\n",
       "\n",
       "    .dataframe thead th {\n",
       "        text-align: right;\n",
       "    }\n",
       "</style>\n",
       "<table border=\"1\" class=\"dataframe\">\n",
       "  <thead>\n",
       "    <tr style=\"text-align: right;\">\n",
       "      <th></th>\n",
       "      <th>Nhiệt độ</th>\n",
       "      <th>Độ ẩm</th>\n",
       "      <th>Khí áp</th>\n",
       "      <th>T.độ gió</th>\n",
       "      <th>H. gió</th>\n",
       "    </tr>\n",
       "    <tr>\n",
       "      <th>Datetime</th>\n",
       "      <th></th>\n",
       "      <th></th>\n",
       "      <th></th>\n",
       "      <th></th>\n",
       "      <th></th>\n",
       "    </tr>\n",
       "  </thead>\n",
       "  <tbody>\n",
       "    <tr>\n",
       "      <th>2024-01-15 19:00:00</th>\n",
       "      <td>28.3</td>\n",
       "      <td>65.0</td>\n",
       "      <td>1011.8</td>\n",
       "      <td>2.2</td>\n",
       "      <td>154.0</td>\n",
       "    </tr>\n",
       "    <tr>\n",
       "      <th>2024-01-15 20:00:00</th>\n",
       "      <td>27.4</td>\n",
       "      <td>70.0</td>\n",
       "      <td>1012.1</td>\n",
       "      <td>2.1</td>\n",
       "      <td>152.0</td>\n",
       "    </tr>\n",
       "    <tr>\n",
       "      <th>2024-01-15 21:00:00</th>\n",
       "      <td>27.0</td>\n",
       "      <td>72.0</td>\n",
       "      <td>1012.5</td>\n",
       "      <td>0.2</td>\n",
       "      <td>149.0</td>\n",
       "    </tr>\n",
       "    <tr>\n",
       "      <th>2024-01-15 22:00:00</th>\n",
       "      <td>26.5</td>\n",
       "      <td>75.0</td>\n",
       "      <td>1012.2</td>\n",
       "      <td>1.3</td>\n",
       "      <td>153.0</td>\n",
       "    </tr>\n",
       "    <tr>\n",
       "      <th>2024-02-21 07:00:00</th>\n",
       "      <td>24.4</td>\n",
       "      <td>97.0</td>\n",
       "      <td>1012.6</td>\n",
       "      <td>1.4</td>\n",
       "      <td>142.0</td>\n",
       "    </tr>\n",
       "  </tbody>\n",
       "</table>\n",
       "</div>"
      ],
      "text/plain": [
       "                     Nhiệt độ  Độ ẩm  Khí áp  T.độ gió  H. gió\n",
       "Datetime                                                      \n",
       "2024-01-15 19:00:00      28.3   65.0  1011.8       2.2   154.0\n",
       "2024-01-15 20:00:00      27.4   70.0  1012.1       2.1   152.0\n",
       "2024-01-15 21:00:00      27.0   72.0  1012.5       0.2   149.0\n",
       "2024-01-15 22:00:00      26.5   75.0  1012.2       1.3   153.0\n",
       "2024-02-21 07:00:00      24.4   97.0  1012.6       1.4   142.0"
      ]
     },
     "execution_count": 6,
     "metadata": {},
     "output_type": "execute_result"
    }
   ],
   "source": [
    "hourly_data = data.resample('H').mean()\n",
    "hourly_data.replace(['-', ''], np.nan, inplace=True)\n",
    "hourly_data.dropna(inplace=True)\n",
    "hourly_data = hourly_data.apply(pd.to_numeric, errors='ignore')\n",
    "hourly_data.tail()"
   ]
  },
  {
   "cell_type": "code",
   "execution_count": 7,
   "metadata": {},
   "outputs": [],
   "source": [
    "hourly_data.reset_index(drop=True, inplace=True)"
   ]
  },
  {
   "cell_type": "code",
   "execution_count": 8,
   "metadata": {},
   "outputs": [
    {
     "data": {
      "text/html": [
       "<div>\n",
       "<style scoped>\n",
       "    .dataframe tbody tr th:only-of-type {\n",
       "        vertical-align: middle;\n",
       "    }\n",
       "\n",
       "    .dataframe tbody tr th {\n",
       "        vertical-align: top;\n",
       "    }\n",
       "\n",
       "    .dataframe thead th {\n",
       "        text-align: right;\n",
       "    }\n",
       "</style>\n",
       "<table border=\"1\" class=\"dataframe\">\n",
       "  <thead>\n",
       "    <tr style=\"text-align: right;\">\n",
       "      <th></th>\n",
       "      <th>Nhiệt độ</th>\n",
       "      <th>Độ ẩm</th>\n",
       "      <th>Khí áp</th>\n",
       "      <th>T.độ gió</th>\n",
       "      <th>H. gió</th>\n",
       "    </tr>\n",
       "  </thead>\n",
       "  <tbody>\n",
       "    <tr>\n",
       "      <th>0</th>\n",
       "      <td>22.2</td>\n",
       "      <td>89.0</td>\n",
       "      <td>1013.7</td>\n",
       "      <td>1.3</td>\n",
       "      <td>225.0</td>\n",
       "    </tr>\n",
       "    <tr>\n",
       "      <th>1</th>\n",
       "      <td>21.8</td>\n",
       "      <td>90.0</td>\n",
       "      <td>1012.9</td>\n",
       "      <td>1.0</td>\n",
       "      <td>270.0</td>\n",
       "    </tr>\n",
       "    <tr>\n",
       "      <th>2</th>\n",
       "      <td>22.8</td>\n",
       "      <td>80.0</td>\n",
       "      <td>1012.5</td>\n",
       "      <td>3.1</td>\n",
       "      <td>320.0</td>\n",
       "    </tr>\n",
       "    <tr>\n",
       "      <th>3</th>\n",
       "      <td>22.7</td>\n",
       "      <td>80.0</td>\n",
       "      <td>1012.5</td>\n",
       "      <td>1.2</td>\n",
       "      <td>235.0</td>\n",
       "    </tr>\n",
       "    <tr>\n",
       "      <th>4</th>\n",
       "      <td>22.0</td>\n",
       "      <td>84.0</td>\n",
       "      <td>1012.5</td>\n",
       "      <td>3.7</td>\n",
       "      <td>319.0</td>\n",
       "    </tr>\n",
       "  </tbody>\n",
       "</table>\n",
       "</div>"
      ],
      "text/plain": [
       "   Nhiệt độ  Độ ẩm  Khí áp  T.độ gió  H. gió\n",
       "0      22.2   89.0  1013.7       1.3   225.0\n",
       "1      21.8   90.0  1012.9       1.0   270.0\n",
       "2      22.8   80.0  1012.5       3.1   320.0\n",
       "3      22.7   80.0  1012.5       1.2   235.0\n",
       "4      22.0   84.0  1012.5       3.7   319.0"
      ]
     },
     "execution_count": 8,
     "metadata": {},
     "output_type": "execute_result"
    }
   ],
   "source": [
    "hourly_data.head()"
   ]
  },
  {
   "cell_type": "code",
   "execution_count": 9,
   "metadata": {},
   "outputs": [
    {
     "name": "stdout",
     "output_type": "stream",
     "text": [
      "Nhiệt độ    0\n",
      "Độ ẩm       0\n",
      "Khí áp      0\n",
      "T.độ gió    0\n",
      "H. gió      0\n",
      "dtype: int64\n"
     ]
    }
   ],
   "source": [
    "print(hourly_data.isna().sum())"
   ]
  },
  {
   "cell_type": "code",
   "execution_count": 10,
   "metadata": {},
   "outputs": [],
   "source": [
    "# data_length = len(hourly_data)\n",
    "\n",
    "# train_idx = int(data_length * 0.80)\n",
    "# test_idx = int(data_length * 0.20)\n",
    "\n",
    "# train = hourly_data[:train_idx]\n",
    "# test = hourly_data[train_idx:]\n",
    "\n",
    "# print(f\"Train Shape: {train.shape}\")\n",
    "# print(f\"Test Shape: {test.shape}\")"
   ]
  },
  {
   "cell_type": "code",
   "execution_count": 11,
   "metadata": {},
   "outputs": [],
   "source": [
    "def train_test_split(data, n_test):\n",
    "    n_test = int(len(data) * 0.20)\n",
    "    return data[:-n_test], data[-n_test:]"
   ]
  },
  {
   "cell_type": "code",
   "execution_count": 12,
   "metadata": {},
   "outputs": [],
   "source": [
    "from sklearn.metrics import mean_absolute_error\n",
    "from xgboost import XGBRegressor"
   ]
  },
  {
   "cell_type": "code",
   "execution_count": 13,
   "metadata": {},
   "outputs": [],
   "source": [
    "# testX = test['Nhiệt độ']\n",
    "# testy = test.drop(columns=['Nhiệt độ'])\n",
    "# trainX = train['Nhiệt độ']\n",
    "# trainy = train.drop(columns=['Nhiệt độ'])"
   ]
  },
  {
   "cell_type": "code",
   "execution_count": null,
   "metadata": {},
   "outputs": [],
   "source": [
    "def create_features(data, n_lags=3):\n",
    "    df = data.copy()\n",
    "    for n in range(1, n_lags + 1):\n",
    "        df[f'lag_{n}'] = df['Nhiệt độ'].shift(n)\n",
    "    # df['rolling_mean_3'] = df['Nhiệt độ'].rolling(window=3).mean()\n",
    "    # target\n",
    "    df['target_temp'] = df['Nhiệt độ'].shift(-1)\n",
    "    df['target_humidity'] = df['Độ ẩm'].shift(-1)\n",
    "    df['target_baro'] = df['Khí áp'].shift(-1)\n",
    "    df['target_windspeed'] = df['T.độ gió'].shift(-1)\n",
    "    df['target_winddirec'] = df['H. gió'].shift(-1)\n",
    "    df.dropna(inplace=True)\n",
    "    return df\n",
    "\n",
    "# Apply feature engineering\n",
    "hourly_data = create_features(hourly_data, n_lags=3)\n"
   ]
  },
  {
   "cell_type": "code",
   "execution_count": null,
   "metadata": {},
   "outputs": [],
   "source": [
    "from sklearn.model_selection import GridSearchCV\n",
    "\n",
    "def xgboost_grid_search(trainX, trainy):\n",
    "    model = XGBRegressor(objective='reg:squarederror')\n",
    "    param_grid = {\n",
    "        'n_estimators': [100, 500, 1000],\n",
    "        'max_depth': [3, 5, 7, 9],\n",
    "        'learning_rate': [0.01, 0.05, 0.1]\n",
    "    }\n",
    "    grid_search = GridSearchCV(model, param_grid, scoring='neg_mean_squared_error', cv=3)\n",
    "    grid_search.fit(trainX, trainy)\n",
    "    print(\"Best parameters found: \", grid_search.best_params_)\n",
    "    return grid_search.best_estimator_"
   ]
  },
  {
   "cell_type": "code",
   "execution_count": null,
   "metadata": {},
   "outputs": [],
   "source": [
    "from sklearn.multioutput import MultiOutputRegressor\n",
    "\n",
    "def xgboost_forecast(train, testX):\n",
    "    train = np.asarray(train)\n",
    "    trainX, trainy = train[:, :-5], train[:, -5:]\n",
    "    model = MultiOutputRegressor(xgboost_grid_search(trainX, trainy))\n",
    "    model.fit(trainX, trainy)\n",
    "    yhat = model.predict([testX])\n",
    "    return yhat[0]\n"
   ]
  },
  {
   "cell_type": "code",
   "execution_count": null,
   "metadata": {},
   "outputs": [],
   "source": [
    "from tqdm import tqdm"
   ]
  },
  {
   "cell_type": "code",
   "execution_count": null,
   "metadata": {},
   "outputs": [],
   "source": [
    "def rolling_forecast(data, window_size, n_test):\n",
    "    predictions = list()\n",
    "    train, test = train_test_split(data.values, n_test)\n",
    "    history = [x for x in train]\n",
    "    for i in range(len(test)):\n",
    "        # Define the rolling window for training\n",
    "        rolling_train = history[-window_size:]\n",
    "        testX, testy = test[i, :-5], test[i, -5:]\n",
    "        yhat = xgboost_forecast(rolling_train, testX)\n",
    "        predictions.append(yhat)\n",
    "        history.append(test[i])\n",
    "        print('>expected=%.1f, predicted=%.1f' % (testy[0], yhat[0]))\n",
    "    predictions = np.array(predictions)\n",
    "    error = np.sqrt(mean_squared_error(test[:, -5:], predictions, multioutput='raw_values'))\n",
    "    return error, test[:, -5:], predictions"
   ]
  },
  {
   "cell_type": "code",
   "execution_count": null,
   "metadata": {},
   "outputs": [],
   "source": [
    "hourly_data.head()"
   ]
  },
  {
   "cell_type": "code",
   "execution_count": null,
   "metadata": {},
   "outputs": [],
   "source": [
    "print(hourly_data.isna().sum())"
   ]
  },
  {
   "cell_type": "code",
   "execution_count": null,
   "metadata": {},
   "outputs": [],
   "source": [
    "from sklearn.metrics import mean_squared_error\n",
    "\n",
    "window_size = 100\n",
    "\n",
    "# Evaluate the model\n",
    "rmse, y, yhat = rolling_forecast(hourly_data, window_size, 12)\n",
    "\n",
    "# Print RMSE for each target\n",
    "targets = ['Temperature', 'Humidity', 'Pressure', 'Wind Speed', 'Wind Direction']\n",
    "\n",
    "for i, target in tqdm(enumerate(targets), total=len(targets)):\n",
    "    print(f'RMSE for {target}: {rmse[i]:.3f}')\n"
   ]
  },
  {
   "cell_type": "code",
   "execution_count": null,
   "metadata": {},
   "outputs": [],
   "source": [
    "import matplotlib.pyplot as plt\n",
    "\n",
    "fig, axes = plt.subplots(nrows=5, ncols=1, figsize=(10, 15))\n",
    "targets = ['Temperature', 'Humidity', 'Pressure', 'Wind Speed', 'Wind Direction']\n",
    "for i, ax in enumerate(axes):\n",
    "    ax.plot(y[:, i], label='Expected')\n",
    "    ax.plot(yhat[:, i], label='Predicted')\n",
    "    mean_value = np.mean(y[:, i])\n",
    "    ax.axhline(y=mean_value, color='r', linestyle='--', label='Mean')\n",
    "    ax.set_title(targets[i])\n",
    "    ax.legend()\n",
    "\n",
    "plt.tight_layout()\n",
    "plt.show()\n"
   ]
  },
  {
   "cell_type": "code",
   "execution_count": null,
   "metadata": {},
   "outputs": [],
   "source": [
    "# # Function to perform walk-forward validation\n",
    "# def walk_forward_validation(data, n_test):\n",
    "#     predictions = list()\n",
    "#     train, test = train_test_split(data.values, n_test)\n",
    "#     history = [x for x in train]\n",
    "#     for i in range(len(test)):\n",
    "#         testX, testy = test[i, :-1], test[i, -1]\n",
    "#         yhat = xgboost_forecast(history, testX)\n",
    "#         predictions.append(yhat)\n",
    "#         history.append(test[i])\n",
    "#         print('>expected=%.1f, predicted=%.1f' % (testy, yhat))\n",
    "#     error = mean_absolute_error(test[:, -1], predictions)\n",
    "#     return error, test[:, -1], predictions\n",
    "\n",
    "# # Evaluate the model\n",
    "# mae, y, yhat = walk_forward_validation(hourly_data, 12)\n",
    "# print('MAE: %.3f' % mae)\n",
    "\n",
    "# # Plot expected vs predicted values\n",
    "# plt.plot(y, label='Expected')\n",
    "# plt.plot(yhat, label='Predicted')\n",
    "# plt.legend()\n",
    "# plt.show()\n"
   ]
  },
  {
   "cell_type": "code",
   "execution_count": null,
   "metadata": {},
   "outputs": [],
   "source": []
  }
 ],
 "metadata": {
  "kernelspec": {
   "display_name": "Python 3 (ipykernel)",
   "language": "python",
   "name": "python3"
  },
  "language_info": {
   "codemirror_mode": {
    "name": "ipython",
    "version": 3
   },
   "file_extension": ".py",
   "mimetype": "text/x-python",
   "name": "python",
   "nbconvert_exporter": "python",
   "pygments_lexer": "ipython3",
   "version": "3.11.5"
  }
 },
 "nbformat": 4,
 "nbformat_minor": 2
}
