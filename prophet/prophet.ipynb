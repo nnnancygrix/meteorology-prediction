{
 "cells": [
  {
   "cell_type": "code",
   "execution_count": 135,
   "metadata": {},
   "outputs": [],
   "source": [
    "import pandas as pd\n",
    "import numpy as np\n",
    "from sklearn.impute import SimpleImputer\n",
    "from sklearn.metrics import mean_absolute_error\n",
    "import matplotlib.pyplot as plt\n",
    "from sklearn.metrics import accuracy_score\n",
    "import seaborn as sns\n"
   ]
  },
  {
   "cell_type": "code",
   "execution_count": 136,
   "metadata": {},
   "outputs": [],
   "source": [
    "from lightgbm import LGBMRegressor\n"
   ]
  },
  {
   "cell_type": "code",
   "execution_count": 137,
   "metadata": {},
   "outputs": [],
   "source": [
    "import importlib.metadata\n",
    "from prophet import Prophet"
   ]
  },
  {
   "cell_type": "code",
   "execution_count": 138,
   "metadata": {},
   "outputs": [
    {
     "name": "stdout",
     "output_type": "stream",
     "text": [
      "Prophet 1.1.5\n"
     ]
    }
   ],
   "source": [
    "prophet_version = importlib.metadata.version('prophet')\n",
    "print('Prophet %s' % prophet_version)"
   ]
  },
  {
   "cell_type": "code",
   "execution_count": 139,
   "metadata": {},
   "outputs": [],
   "source": [
    "# Load the dataset\n",
    "DATA_PATH = '../data-preprocessing/VinhLong_data.csv'\n",
    "data = pd.read_csv(DATA_PATH)\n",
    "data = data[data['Nhiệt độ'] <= 60]"
   ]
  },
  {
   "cell_type": "code",
   "execution_count": 140,
   "metadata": {},
   "outputs": [
    {
     "data": {
      "text/html": [
       "<div>\n",
       "<style scoped>\n",
       "    .dataframe tbody tr th:only-of-type {\n",
       "        vertical-align: middle;\n",
       "    }\n",
       "\n",
       "    .dataframe tbody tr th {\n",
       "        vertical-align: top;\n",
       "    }\n",
       "\n",
       "    .dataframe thead th {\n",
       "        text-align: right;\n",
       "    }\n",
       "</style>\n",
       "<table border=\"1\" class=\"dataframe\">\n",
       "  <thead>\n",
       "    <tr style=\"text-align: right;\">\n",
       "      <th></th>\n",
       "      <th>Nhiệt độ</th>\n",
       "      <th>Độ ẩm</th>\n",
       "      <th>Khí áp</th>\n",
       "      <th>T.độ gió</th>\n",
       "      <th>H. gió</th>\n",
       "    </tr>\n",
       "    <tr>\n",
       "      <th>Datetime</th>\n",
       "      <th></th>\n",
       "      <th></th>\n",
       "      <th></th>\n",
       "      <th></th>\n",
       "      <th></th>\n",
       "    </tr>\n",
       "  </thead>\n",
       "  <tbody>\n",
       "    <tr>\n",
       "      <th>2014-01-01 01:00:00</th>\n",
       "      <td>22.2</td>\n",
       "      <td>89</td>\n",
       "      <td>1013.7</td>\n",
       "      <td>1.3</td>\n",
       "      <td>225</td>\n",
       "    </tr>\n",
       "    <tr>\n",
       "      <th>2014-01-01 02:00:00</th>\n",
       "      <td>21.8</td>\n",
       "      <td>90</td>\n",
       "      <td>1012.9</td>\n",
       "      <td>1</td>\n",
       "      <td>270</td>\n",
       "    </tr>\n",
       "    <tr>\n",
       "      <th>2014-01-01 03:00:00</th>\n",
       "      <td>22.8</td>\n",
       "      <td>80</td>\n",
       "      <td>1012.5</td>\n",
       "      <td>3.1</td>\n",
       "      <td>320</td>\n",
       "    </tr>\n",
       "    <tr>\n",
       "      <th>2014-01-01 04:00:00</th>\n",
       "      <td>22.7</td>\n",
       "      <td>80</td>\n",
       "      <td>1012.5</td>\n",
       "      <td>1.2</td>\n",
       "      <td>235</td>\n",
       "    </tr>\n",
       "    <tr>\n",
       "      <th>2014-01-01 05:00:00</th>\n",
       "      <td>22.0</td>\n",
       "      <td>84</td>\n",
       "      <td>1012.5</td>\n",
       "      <td>3.7</td>\n",
       "      <td>319</td>\n",
       "    </tr>\n",
       "  </tbody>\n",
       "</table>\n",
       "</div>"
      ],
      "text/plain": [
       "                     Nhiệt độ Độ ẩm  Khí áp T.độ gió H. gió\n",
       "Datetime                                                   \n",
       "2014-01-01 01:00:00      22.2    89  1013.7      1.3    225\n",
       "2014-01-01 02:00:00      21.8    90  1012.9        1    270\n",
       "2014-01-01 03:00:00      22.8    80  1012.5      3.1    320\n",
       "2014-01-01 04:00:00      22.7    80  1012.5      1.2    235\n",
       "2014-01-01 05:00:00      22.0    84  1012.5      3.7    319"
      ]
     },
     "execution_count": 140,
     "metadata": {},
     "output_type": "execute_result"
    }
   ],
   "source": [
    "data['Ngày'] = pd.to_datetime(data['Ngày'], format='%d/%m/%Y')\n",
    "data['Giờ'] = pd.to_datetime(data['Giờ'], format='%H:%M').dt.time\n",
    "data['Datetime'] = pd.to_datetime(data['Ngày'].astype(str) + ' ' + data['Giờ'].astype(str))\n",
    "data.set_index('Datetime', inplace=True)\n",
    "data.drop(['Ngày', 'Giờ'], axis=1, inplace=True)\n",
    "data.head()"
   ]
  },
  {
   "cell_type": "code",
   "execution_count": 141,
   "metadata": {},
   "outputs": [
    {
     "data": {
      "text/html": [
       "<div>\n",
       "<style scoped>\n",
       "    .dataframe tbody tr th:only-of-type {\n",
       "        vertical-align: middle;\n",
       "    }\n",
       "\n",
       "    .dataframe tbody tr th {\n",
       "        vertical-align: top;\n",
       "    }\n",
       "\n",
       "    .dataframe thead th {\n",
       "        text-align: right;\n",
       "    }\n",
       "</style>\n",
       "<table border=\"1\" class=\"dataframe\">\n",
       "  <thead>\n",
       "    <tr style=\"text-align: right;\">\n",
       "      <th></th>\n",
       "      <th>Nhiệt độ</th>\n",
       "      <th>Độ ẩm</th>\n",
       "      <th>Khí áp</th>\n",
       "      <th>T.độ gió</th>\n",
       "      <th>H. gió</th>\n",
       "    </tr>\n",
       "    <tr>\n",
       "      <th>Datetime</th>\n",
       "      <th></th>\n",
       "      <th></th>\n",
       "      <th></th>\n",
       "      <th></th>\n",
       "      <th></th>\n",
       "    </tr>\n",
       "  </thead>\n",
       "  <tbody>\n",
       "    <tr>\n",
       "      <th>2024-01-15 19:00:00</th>\n",
       "      <td>28.3</td>\n",
       "      <td>65</td>\n",
       "      <td>1011.8</td>\n",
       "      <td>2.2</td>\n",
       "      <td>154</td>\n",
       "    </tr>\n",
       "    <tr>\n",
       "      <th>2024-01-15 20:00:00</th>\n",
       "      <td>27.4</td>\n",
       "      <td>70</td>\n",
       "      <td>1012.1</td>\n",
       "      <td>2.1</td>\n",
       "      <td>152</td>\n",
       "    </tr>\n",
       "    <tr>\n",
       "      <th>2024-01-15 21:00:00</th>\n",
       "      <td>27.0</td>\n",
       "      <td>72</td>\n",
       "      <td>1012.5</td>\n",
       "      <td>0.2</td>\n",
       "      <td>149</td>\n",
       "    </tr>\n",
       "    <tr>\n",
       "      <th>2024-01-15 22:00:00</th>\n",
       "      <td>26.5</td>\n",
       "      <td>75</td>\n",
       "      <td>1012.2</td>\n",
       "      <td>1.3</td>\n",
       "      <td>153</td>\n",
       "    </tr>\n",
       "    <tr>\n",
       "      <th>2024-02-21 07:00:00</th>\n",
       "      <td>24.4</td>\n",
       "      <td>97</td>\n",
       "      <td>1012.6</td>\n",
       "      <td>1.4</td>\n",
       "      <td>142</td>\n",
       "    </tr>\n",
       "  </tbody>\n",
       "</table>\n",
       "</div>"
      ],
      "text/plain": [
       "                     Nhiệt độ  Độ ẩm  Khí áp  T.độ gió  H. gió\n",
       "Datetime                                                      \n",
       "2024-01-15 19:00:00      28.3     65  1011.8       2.2     154\n",
       "2024-01-15 20:00:00      27.4     70  1012.1       2.1     152\n",
       "2024-01-15 21:00:00      27.0     72  1012.5       0.2     149\n",
       "2024-01-15 22:00:00      26.5     75  1012.2       1.3     153\n",
       "2024-02-21 07:00:00      24.4     97  1012.6       1.4     142"
      ]
     },
     "execution_count": 141,
     "metadata": {},
     "output_type": "execute_result"
    }
   ],
   "source": [
    "data.replace(['-', ''], np.nan, inplace=True)\n",
    "data.dropna(inplace=True)\n",
    "data = data.apply(pd.to_numeric, errors='ignore')\n",
    "data.tail()"
   ]
  },
  {
   "cell_type": "code",
   "execution_count": 142,
   "metadata": {},
   "outputs": [
    {
     "name": "stdout",
     "output_type": "stream",
     "text": [
      "Nhiệt độ    0\n",
      "Độ ẩm       0\n",
      "Khí áp      0\n",
      "T.độ gió    0\n",
      "H. gió      0\n",
      "dtype: int64\n"
     ]
    }
   ],
   "source": [
    "print(data.isna().sum())"
   ]
  },
  {
   "cell_type": "code",
   "execution_count": 143,
   "metadata": {},
   "outputs": [
    {
     "data": {
      "text/html": [
       "<div>\n",
       "<style scoped>\n",
       "    .dataframe tbody tr th:only-of-type {\n",
       "        vertical-align: middle;\n",
       "    }\n",
       "\n",
       "    .dataframe tbody tr th {\n",
       "        vertical-align: top;\n",
       "    }\n",
       "\n",
       "    .dataframe thead th {\n",
       "        text-align: right;\n",
       "    }\n",
       "</style>\n",
       "<table border=\"1\" class=\"dataframe\">\n",
       "  <thead>\n",
       "    <tr style=\"text-align: right;\">\n",
       "      <th></th>\n",
       "      <th>Nhiệt độ</th>\n",
       "      <th>Độ ẩm</th>\n",
       "      <th>Khí áp</th>\n",
       "      <th>T.độ gió</th>\n",
       "      <th>H. gió</th>\n",
       "    </tr>\n",
       "    <tr>\n",
       "      <th>Datetime</th>\n",
       "      <th></th>\n",
       "      <th></th>\n",
       "      <th></th>\n",
       "      <th></th>\n",
       "      <th></th>\n",
       "    </tr>\n",
       "  </thead>\n",
       "  <tbody>\n",
       "    <tr>\n",
       "      <th>2024-01-15 19:00:00</th>\n",
       "      <td>28.3</td>\n",
       "      <td>65.0</td>\n",
       "      <td>1011.8</td>\n",
       "      <td>2.2</td>\n",
       "      <td>154.0</td>\n",
       "    </tr>\n",
       "    <tr>\n",
       "      <th>2024-01-15 20:00:00</th>\n",
       "      <td>27.4</td>\n",
       "      <td>70.0</td>\n",
       "      <td>1012.1</td>\n",
       "      <td>2.1</td>\n",
       "      <td>152.0</td>\n",
       "    </tr>\n",
       "    <tr>\n",
       "      <th>2024-01-15 21:00:00</th>\n",
       "      <td>27.0</td>\n",
       "      <td>72.0</td>\n",
       "      <td>1012.5</td>\n",
       "      <td>0.2</td>\n",
       "      <td>149.0</td>\n",
       "    </tr>\n",
       "    <tr>\n",
       "      <th>2024-01-15 22:00:00</th>\n",
       "      <td>26.5</td>\n",
       "      <td>75.0</td>\n",
       "      <td>1012.2</td>\n",
       "      <td>1.3</td>\n",
       "      <td>153.0</td>\n",
       "    </tr>\n",
       "    <tr>\n",
       "      <th>2024-02-21 07:00:00</th>\n",
       "      <td>24.4</td>\n",
       "      <td>97.0</td>\n",
       "      <td>1012.6</td>\n",
       "      <td>1.4</td>\n",
       "      <td>142.0</td>\n",
       "    </tr>\n",
       "  </tbody>\n",
       "</table>\n",
       "</div>"
      ],
      "text/plain": [
       "                     Nhiệt độ  Độ ẩm  Khí áp  T.độ gió  H. gió\n",
       "Datetime                                                      \n",
       "2024-01-15 19:00:00      28.3   65.0  1011.8       2.2   154.0\n",
       "2024-01-15 20:00:00      27.4   70.0  1012.1       2.1   152.0\n",
       "2024-01-15 21:00:00      27.0   72.0  1012.5       0.2   149.0\n",
       "2024-01-15 22:00:00      26.5   75.0  1012.2       1.3   153.0\n",
       "2024-02-21 07:00:00      24.4   97.0  1012.6       1.4   142.0"
      ]
     },
     "execution_count": 143,
     "metadata": {},
     "output_type": "execute_result"
    }
   ],
   "source": [
    "hourly_data = data.resample('H').mean()\n",
    "hourly_data.replace(['-', ''], np.nan, inplace=True)\n",
    "hourly_data.dropna(inplace=True)\n",
    "hourly_data = hourly_data.apply(pd.to_numeric, errors='ignore')\n",
    "hourly_data.tail()"
   ]
  },
  {
   "cell_type": "code",
   "execution_count": 144,
   "metadata": {},
   "outputs": [],
   "source": [
    "hourly_data = hourly_data.rename(columns={'Nhiệt độ': 'y'})"
   ]
  },
  {
   "cell_type": "code",
   "execution_count": 145,
   "metadata": {},
   "outputs": [],
   "source": [
    "hourly_data = hourly_data.reset_index().rename(columns={'Datetime': 'ds'})\n"
   ]
  },
  {
   "cell_type": "code",
   "execution_count": 146,
   "metadata": {},
   "outputs": [],
   "source": [
    "hourly_data.set_index('ds', inplace=True)"
   ]
  },
  {
   "cell_type": "code",
   "execution_count": 147,
   "metadata": {},
   "outputs": [
    {
     "data": {
      "text/html": [
       "<div>\n",
       "<style scoped>\n",
       "    .dataframe tbody tr th:only-of-type {\n",
       "        vertical-align: middle;\n",
       "    }\n",
       "\n",
       "    .dataframe tbody tr th {\n",
       "        vertical-align: top;\n",
       "    }\n",
       "\n",
       "    .dataframe thead th {\n",
       "        text-align: right;\n",
       "    }\n",
       "</style>\n",
       "<table border=\"1\" class=\"dataframe\">\n",
       "  <thead>\n",
       "    <tr style=\"text-align: right;\">\n",
       "      <th></th>\n",
       "      <th>y</th>\n",
       "      <th>Độ ẩm</th>\n",
       "      <th>Khí áp</th>\n",
       "      <th>T.độ gió</th>\n",
       "      <th>H. gió</th>\n",
       "    </tr>\n",
       "    <tr>\n",
       "      <th>ds</th>\n",
       "      <th></th>\n",
       "      <th></th>\n",
       "      <th></th>\n",
       "      <th></th>\n",
       "      <th></th>\n",
       "    </tr>\n",
       "  </thead>\n",
       "  <tbody>\n",
       "    <tr>\n",
       "      <th>2014-01-01 01:00:00</th>\n",
       "      <td>22.2</td>\n",
       "      <td>89.0</td>\n",
       "      <td>1013.7</td>\n",
       "      <td>1.3</td>\n",
       "      <td>225.0</td>\n",
       "    </tr>\n",
       "    <tr>\n",
       "      <th>2014-01-01 02:00:00</th>\n",
       "      <td>21.8</td>\n",
       "      <td>90.0</td>\n",
       "      <td>1012.9</td>\n",
       "      <td>1.0</td>\n",
       "      <td>270.0</td>\n",
       "    </tr>\n",
       "    <tr>\n",
       "      <th>2014-01-01 03:00:00</th>\n",
       "      <td>22.8</td>\n",
       "      <td>80.0</td>\n",
       "      <td>1012.5</td>\n",
       "      <td>3.1</td>\n",
       "      <td>320.0</td>\n",
       "    </tr>\n",
       "    <tr>\n",
       "      <th>2014-01-01 04:00:00</th>\n",
       "      <td>22.7</td>\n",
       "      <td>80.0</td>\n",
       "      <td>1012.5</td>\n",
       "      <td>1.2</td>\n",
       "      <td>235.0</td>\n",
       "    </tr>\n",
       "    <tr>\n",
       "      <th>2014-01-01 05:00:00</th>\n",
       "      <td>22.0</td>\n",
       "      <td>84.0</td>\n",
       "      <td>1012.5</td>\n",
       "      <td>3.7</td>\n",
       "      <td>319.0</td>\n",
       "    </tr>\n",
       "    <tr>\n",
       "      <th>...</th>\n",
       "      <td>...</td>\n",
       "      <td>...</td>\n",
       "      <td>...</td>\n",
       "      <td>...</td>\n",
       "      <td>...</td>\n",
       "    </tr>\n",
       "    <tr>\n",
       "      <th>2024-01-15 19:00:00</th>\n",
       "      <td>28.3</td>\n",
       "      <td>65.0</td>\n",
       "      <td>1011.8</td>\n",
       "      <td>2.2</td>\n",
       "      <td>154.0</td>\n",
       "    </tr>\n",
       "    <tr>\n",
       "      <th>2024-01-15 20:00:00</th>\n",
       "      <td>27.4</td>\n",
       "      <td>70.0</td>\n",
       "      <td>1012.1</td>\n",
       "      <td>2.1</td>\n",
       "      <td>152.0</td>\n",
       "    </tr>\n",
       "    <tr>\n",
       "      <th>2024-01-15 21:00:00</th>\n",
       "      <td>27.0</td>\n",
       "      <td>72.0</td>\n",
       "      <td>1012.5</td>\n",
       "      <td>0.2</td>\n",
       "      <td>149.0</td>\n",
       "    </tr>\n",
       "    <tr>\n",
       "      <th>2024-01-15 22:00:00</th>\n",
       "      <td>26.5</td>\n",
       "      <td>75.0</td>\n",
       "      <td>1012.2</td>\n",
       "      <td>1.3</td>\n",
       "      <td>153.0</td>\n",
       "    </tr>\n",
       "    <tr>\n",
       "      <th>2024-02-21 07:00:00</th>\n",
       "      <td>24.4</td>\n",
       "      <td>97.0</td>\n",
       "      <td>1012.6</td>\n",
       "      <td>1.4</td>\n",
       "      <td>142.0</td>\n",
       "    </tr>\n",
       "  </tbody>\n",
       "</table>\n",
       "<p>72263 rows × 5 columns</p>\n",
       "</div>"
      ],
      "text/plain": [
       "                        y  Độ ẩm  Khí áp  T.độ gió  H. gió\n",
       "ds                                                        \n",
       "2014-01-01 01:00:00  22.2   89.0  1013.7       1.3   225.0\n",
       "2014-01-01 02:00:00  21.8   90.0  1012.9       1.0   270.0\n",
       "2014-01-01 03:00:00  22.8   80.0  1012.5       3.1   320.0\n",
       "2014-01-01 04:00:00  22.7   80.0  1012.5       1.2   235.0\n",
       "2014-01-01 05:00:00  22.0   84.0  1012.5       3.7   319.0\n",
       "...                   ...    ...     ...       ...     ...\n",
       "2024-01-15 19:00:00  28.3   65.0  1011.8       2.2   154.0\n",
       "2024-01-15 20:00:00  27.4   70.0  1012.1       2.1   152.0\n",
       "2024-01-15 21:00:00  27.0   72.0  1012.5       0.2   149.0\n",
       "2024-01-15 22:00:00  26.5   75.0  1012.2       1.3   153.0\n",
       "2024-02-21 07:00:00  24.4   97.0  1012.6       1.4   142.0\n",
       "\n",
       "[72263 rows x 5 columns]"
      ]
     },
     "execution_count": 147,
     "metadata": {},
     "output_type": "execute_result"
    }
   ],
   "source": [
    "hourly_data"
   ]
  },
  {
   "cell_type": "code",
   "execution_count": 148,
   "metadata": {},
   "outputs": [
    {
     "name": "stdout",
     "output_type": "stream",
     "text": [
      "Train Shape: (57810, 5)\n",
      "Test Shape: (14453, 5)\n"
     ]
    }
   ],
   "source": [
    "data_length = len(hourly_data)\n",
    "\n",
    "train_idx = int(data_length * 0.80)\n",
    "test_idx = int(data_length * 0.20)\n",
    "\n",
    "# Split the hourly_data into train, validation, and test\n",
    "train = hourly_data[:train_idx]\n",
    "test = hourly_data[train_idx:]\n",
    "\n",
    "# Check the shape of the datasets to verify the splits\n",
    "print(f\"Train Shape: {train.shape}\")\n",
    "print(f\"Test Shape: {test.shape}\")"
   ]
  },
  {
   "cell_type": "code",
   "execution_count": 152,
   "metadata": {},
   "outputs": [
    {
     "name": "stderr",
     "output_type": "stream",
     "text": [
      "15:54:58 - cmdstanpy - INFO - Chain [1] start processing\n",
      "15:55:04 - cmdstanpy - INFO - Chain [1] done processing\n"
     ]
    },
    {
     "data": {
      "text/plain": [
       "<prophet.forecaster.Prophet at 0x17a16e410>"
      ]
     },
     "execution_count": 152,
     "metadata": {},
     "output_type": "execute_result"
    }
   ],
   "source": [
    "model = Prophet(interval_width=0.95)\n",
    "model.add_regressor('Độ ẩm',standardize=False,mode='multiplicative')\n",
    "model.add_regressor('Khí áp',standardize=False)\n",
    "model.add_regressor('T.độ gió',standardize=False,mode='multiplicative')\n",
    "model.add_regressor('H. gió',standardize=False,mode='multiplicative')\n",
    "model.fit(prop_data)"
   ]
  },
  {
   "cell_type": "code",
   "execution_count": 153,
   "metadata": {},
   "outputs": [],
   "source": [
    "as_df = hourly_data.copy()"
   ]
  },
  {
   "cell_type": "code",
   "execution_count": 154,
   "metadata": {},
   "outputs": [
    {
     "data": {
      "text/html": [
       "<div>\n",
       "<style scoped>\n",
       "    .dataframe tbody tr th:only-of-type {\n",
       "        vertical-align: middle;\n",
       "    }\n",
       "\n",
       "    .dataframe tbody tr th {\n",
       "        vertical-align: top;\n",
       "    }\n",
       "\n",
       "    .dataframe thead th {\n",
       "        text-align: right;\n",
       "    }\n",
       "</style>\n",
       "<table border=\"1\" class=\"dataframe\">\n",
       "  <thead>\n",
       "    <tr style=\"text-align: right;\">\n",
       "      <th></th>\n",
       "      <th>ds</th>\n",
       "      <th>y</th>\n",
       "      <th>Độ ẩm</th>\n",
       "      <th>Khí áp</th>\n",
       "      <th>T.độ gió</th>\n",
       "      <th>H. gió</th>\n",
       "    </tr>\n",
       "  </thead>\n",
       "  <tbody>\n",
       "    <tr>\n",
       "      <th>0</th>\n",
       "      <td>2014-01-01 01:00:00</td>\n",
       "      <td>22.2</td>\n",
       "      <td>89.0</td>\n",
       "      <td>1013.7</td>\n",
       "      <td>1.3</td>\n",
       "      <td>225.0</td>\n",
       "    </tr>\n",
       "    <tr>\n",
       "      <th>1</th>\n",
       "      <td>2014-01-01 02:00:00</td>\n",
       "      <td>21.8</td>\n",
       "      <td>90.0</td>\n",
       "      <td>1012.9</td>\n",
       "      <td>1.0</td>\n",
       "      <td>270.0</td>\n",
       "    </tr>\n",
       "    <tr>\n",
       "      <th>2</th>\n",
       "      <td>2014-01-01 03:00:00</td>\n",
       "      <td>22.8</td>\n",
       "      <td>80.0</td>\n",
       "      <td>1012.5</td>\n",
       "      <td>3.1</td>\n",
       "      <td>320.0</td>\n",
       "    </tr>\n",
       "    <tr>\n",
       "      <th>3</th>\n",
       "      <td>2014-01-01 04:00:00</td>\n",
       "      <td>22.7</td>\n",
       "      <td>80.0</td>\n",
       "      <td>1012.5</td>\n",
       "      <td>1.2</td>\n",
       "      <td>235.0</td>\n",
       "    </tr>\n",
       "    <tr>\n",
       "      <th>4</th>\n",
       "      <td>2014-01-01 05:00:00</td>\n",
       "      <td>22.0</td>\n",
       "      <td>84.0</td>\n",
       "      <td>1012.5</td>\n",
       "      <td>3.7</td>\n",
       "      <td>319.0</td>\n",
       "    </tr>\n",
       "    <tr>\n",
       "      <th>...</th>\n",
       "      <td>...</td>\n",
       "      <td>...</td>\n",
       "      <td>...</td>\n",
       "      <td>...</td>\n",
       "      <td>...</td>\n",
       "      <td>...</td>\n",
       "    </tr>\n",
       "    <tr>\n",
       "      <th>72258</th>\n",
       "      <td>2024-01-15 19:00:00</td>\n",
       "      <td>28.3</td>\n",
       "      <td>65.0</td>\n",
       "      <td>1011.8</td>\n",
       "      <td>2.2</td>\n",
       "      <td>154.0</td>\n",
       "    </tr>\n",
       "    <tr>\n",
       "      <th>72259</th>\n",
       "      <td>2024-01-15 20:00:00</td>\n",
       "      <td>27.4</td>\n",
       "      <td>70.0</td>\n",
       "      <td>1012.1</td>\n",
       "      <td>2.1</td>\n",
       "      <td>152.0</td>\n",
       "    </tr>\n",
       "    <tr>\n",
       "      <th>72260</th>\n",
       "      <td>2024-01-15 21:00:00</td>\n",
       "      <td>27.0</td>\n",
       "      <td>72.0</td>\n",
       "      <td>1012.5</td>\n",
       "      <td>0.2</td>\n",
       "      <td>149.0</td>\n",
       "    </tr>\n",
       "    <tr>\n",
       "      <th>72261</th>\n",
       "      <td>2024-01-15 22:00:00</td>\n",
       "      <td>26.5</td>\n",
       "      <td>75.0</td>\n",
       "      <td>1012.2</td>\n",
       "      <td>1.3</td>\n",
       "      <td>153.0</td>\n",
       "    </tr>\n",
       "    <tr>\n",
       "      <th>72262</th>\n",
       "      <td>2024-02-21 07:00:00</td>\n",
       "      <td>24.4</td>\n",
       "      <td>97.0</td>\n",
       "      <td>1012.6</td>\n",
       "      <td>1.4</td>\n",
       "      <td>142.0</td>\n",
       "    </tr>\n",
       "  </tbody>\n",
       "</table>\n",
       "<p>72263 rows × 6 columns</p>\n",
       "</div>"
      ],
      "text/plain": [
       "                       ds     y  Độ ẩm  Khí áp  T.độ gió  H. gió\n",
       "0     2014-01-01 01:00:00  22.2   89.0  1013.7       1.3   225.0\n",
       "1     2014-01-01 02:00:00  21.8   90.0  1012.9       1.0   270.0\n",
       "2     2014-01-01 03:00:00  22.8   80.0  1012.5       3.1   320.0\n",
       "3     2014-01-01 04:00:00  22.7   80.0  1012.5       1.2   235.0\n",
       "4     2014-01-01 05:00:00  22.0   84.0  1012.5       3.7   319.0\n",
       "...                   ...   ...    ...     ...       ...     ...\n",
       "72258 2024-01-15 19:00:00  28.3   65.0  1011.8       2.2   154.0\n",
       "72259 2024-01-15 20:00:00  27.4   70.0  1012.1       2.1   152.0\n",
       "72260 2024-01-15 21:00:00  27.0   72.0  1012.5       0.2   149.0\n",
       "72261 2024-01-15 22:00:00  26.5   75.0  1012.2       1.3   153.0\n",
       "72262 2024-02-21 07:00:00  24.4   97.0  1012.6       1.4   142.0\n",
       "\n",
       "[72263 rows x 6 columns]"
      ]
     },
     "execution_count": 154,
     "metadata": {},
     "output_type": "execute_result"
    }
   ],
   "source": [
    "as_df.reset_index()"
   ]
  },
  {
   "cell_type": "code",
   "execution_count": 155,
   "metadata": {},
   "outputs": [
    {
     "name": "stdout",
     "output_type": "stream",
     "text": [
      "y           0\n",
      "Độ ẩm       0\n",
      "Khí áp      0\n",
      "T.độ gió    0\n",
      "H. gió      0\n",
      "dtype: int64\n"
     ]
    }
   ],
   "source": [
    "print(as_df.isna().sum())"
   ]
  },
  {
   "cell_type": "code",
   "execution_count": 156,
   "metadata": {},
   "outputs": [],
   "source": [
    "future = model.make_future_dataframe(periods=len(test), freq='H')\n"
   ]
  },
  {
   "cell_type": "code",
   "execution_count": 161,
   "metadata": {},
   "outputs": [
    {
     "ename": "KeyError",
     "evalue": "\"['ds'] not in index\"",
     "output_type": "error",
     "traceback": [
      "\u001b[0;31m---------------------------------------------------------------------------\u001b[0m",
      "\u001b[0;31mKeyError\u001b[0m                                  Traceback (most recent call last)",
      "Cell \u001b[0;32mIn[161], line 2\u001b[0m\n\u001b[1;32m      1\u001b[0m \u001b[38;5;66;03m# future = model.make_future_dataframe(periods=len(test))\u001b[39;00m\n\u001b[0;32m----> 2\u001b[0m future \u001b[38;5;241m=\u001b[39m future\u001b[38;5;241m.\u001b[39mmerge(as_df[[\u001b[38;5;124m'\u001b[39m\u001b[38;5;124mds\u001b[39m\u001b[38;5;124m'\u001b[39m, \u001b[38;5;124m'\u001b[39m\u001b[38;5;124mĐộ ẩm\u001b[39m\u001b[38;5;124m'\u001b[39m, \u001b[38;5;124m'\u001b[39m\u001b[38;5;124mKhí áp\u001b[39m\u001b[38;5;124m'\u001b[39m, \u001b[38;5;124m'\u001b[39m\u001b[38;5;124mT.độ gió\u001b[39m\u001b[38;5;124m'\u001b[39m, \u001b[38;5;124m'\u001b[39m\u001b[38;5;124mH. gió\u001b[39m\u001b[38;5;124m'\u001b[39m]], on\u001b[38;5;241m=\u001b[39m\u001b[38;5;124m'\u001b[39m\u001b[38;5;124mds\u001b[39m\u001b[38;5;124m'\u001b[39m, how\u001b[38;5;241m=\u001b[39m\u001b[38;5;124m'\u001b[39m\u001b[38;5;124mleft\u001b[39m\u001b[38;5;124m'\u001b[39m)\n",
      "File \u001b[0;32m~/anaconda3/lib/python3.11/site-packages/pandas/core/frame.py:3767\u001b[0m, in \u001b[0;36mDataFrame.__getitem__\u001b[0;34m(self, key)\u001b[0m\n\u001b[1;32m   3765\u001b[0m     \u001b[38;5;28;01mif\u001b[39;00m is_iterator(key):\n\u001b[1;32m   3766\u001b[0m         key \u001b[38;5;241m=\u001b[39m \u001b[38;5;28mlist\u001b[39m(key)\n\u001b[0;32m-> 3767\u001b[0m     indexer \u001b[38;5;241m=\u001b[39m \u001b[38;5;28mself\u001b[39m\u001b[38;5;241m.\u001b[39mcolumns\u001b[38;5;241m.\u001b[39m_get_indexer_strict(key, \u001b[38;5;124m\"\u001b[39m\u001b[38;5;124mcolumns\u001b[39m\u001b[38;5;124m\"\u001b[39m)[\u001b[38;5;241m1\u001b[39m]\n\u001b[1;32m   3769\u001b[0m \u001b[38;5;66;03m# take() does not accept boolean indexers\u001b[39;00m\n\u001b[1;32m   3770\u001b[0m \u001b[38;5;28;01mif\u001b[39;00m \u001b[38;5;28mgetattr\u001b[39m(indexer, \u001b[38;5;124m\"\u001b[39m\u001b[38;5;124mdtype\u001b[39m\u001b[38;5;124m\"\u001b[39m, \u001b[38;5;28;01mNone\u001b[39;00m) \u001b[38;5;241m==\u001b[39m \u001b[38;5;28mbool\u001b[39m:\n",
      "File \u001b[0;32m~/anaconda3/lib/python3.11/site-packages/pandas/core/indexes/base.py:5877\u001b[0m, in \u001b[0;36mIndex._get_indexer_strict\u001b[0;34m(self, key, axis_name)\u001b[0m\n\u001b[1;32m   5874\u001b[0m \u001b[38;5;28;01melse\u001b[39;00m:\n\u001b[1;32m   5875\u001b[0m     keyarr, indexer, new_indexer \u001b[38;5;241m=\u001b[39m \u001b[38;5;28mself\u001b[39m\u001b[38;5;241m.\u001b[39m_reindex_non_unique(keyarr)\n\u001b[0;32m-> 5877\u001b[0m \u001b[38;5;28mself\u001b[39m\u001b[38;5;241m.\u001b[39m_raise_if_missing(keyarr, indexer, axis_name)\n\u001b[1;32m   5879\u001b[0m keyarr \u001b[38;5;241m=\u001b[39m \u001b[38;5;28mself\u001b[39m\u001b[38;5;241m.\u001b[39mtake(indexer)\n\u001b[1;32m   5880\u001b[0m \u001b[38;5;28;01mif\u001b[39;00m \u001b[38;5;28misinstance\u001b[39m(key, Index):\n\u001b[1;32m   5881\u001b[0m     \u001b[38;5;66;03m# GH 42790 - Preserve name from an Index\u001b[39;00m\n",
      "File \u001b[0;32m~/anaconda3/lib/python3.11/site-packages/pandas/core/indexes/base.py:5941\u001b[0m, in \u001b[0;36mIndex._raise_if_missing\u001b[0;34m(self, key, indexer, axis_name)\u001b[0m\n\u001b[1;32m   5938\u001b[0m     \u001b[38;5;28;01mraise\u001b[39;00m \u001b[38;5;167;01mKeyError\u001b[39;00m(\u001b[38;5;124mf\u001b[39m\u001b[38;5;124m\"\u001b[39m\u001b[38;5;124mNone of [\u001b[39m\u001b[38;5;132;01m{\u001b[39;00mkey\u001b[38;5;132;01m}\u001b[39;00m\u001b[38;5;124m] are in the [\u001b[39m\u001b[38;5;132;01m{\u001b[39;00maxis_name\u001b[38;5;132;01m}\u001b[39;00m\u001b[38;5;124m]\u001b[39m\u001b[38;5;124m\"\u001b[39m)\n\u001b[1;32m   5940\u001b[0m not_found \u001b[38;5;241m=\u001b[39m \u001b[38;5;28mlist\u001b[39m(ensure_index(key)[missing_mask\u001b[38;5;241m.\u001b[39mnonzero()[\u001b[38;5;241m0\u001b[39m]]\u001b[38;5;241m.\u001b[39munique())\n\u001b[0;32m-> 5941\u001b[0m \u001b[38;5;28;01mraise\u001b[39;00m \u001b[38;5;167;01mKeyError\u001b[39;00m(\u001b[38;5;124mf\u001b[39m\u001b[38;5;124m\"\u001b[39m\u001b[38;5;132;01m{\u001b[39;00mnot_found\u001b[38;5;132;01m}\u001b[39;00m\u001b[38;5;124m not in index\u001b[39m\u001b[38;5;124m\"\u001b[39m)\n",
      "\u001b[0;31mKeyError\u001b[0m: \"['ds'] not in index\""
     ]
    }
   ],
   "source": [
    "# future = model.make_future_dataframe(periods=len(test))\n",
    "future = future.merge(as_df[['ds', 'Độ ẩm', 'Khí áp', 'T.độ gió', 'H. gió']], on='ds', how='left')\n"
   ]
  },
  {
   "cell_type": "code",
   "execution_count": 159,
   "metadata": {},
   "outputs": [
    {
     "name": "stdout",
     "output_type": "stream",
     "text": [
      "ds              0\n",
      "Độ ẩm       72263\n",
      "Khí áp      72263\n",
      "T.độ gió    72263\n",
      "H. gió      72263\n",
      "dtype: int64\n"
     ]
    }
   ],
   "source": [
    "print(future.isna().sum())"
   ]
  },
  {
   "cell_type": "code",
   "execution_count": 133,
   "metadata": {},
   "outputs": [
    {
     "ename": "ValueError",
     "evalue": "Found NaN in column 'Độ ẩm'",
     "output_type": "error",
     "traceback": [
      "\u001b[0;31m---------------------------------------------------------------------------\u001b[0m",
      "\u001b[0;31mValueError\u001b[0m                                Traceback (most recent call last)",
      "Cell \u001b[0;32mIn[133], line 2\u001b[0m\n\u001b[1;32m      1\u001b[0m future \u001b[38;5;241m=\u001b[39m future\u001b[38;5;241m.\u001b[39mfillna(method\u001b[38;5;241m=\u001b[39m\u001b[38;5;124m'\u001b[39m\u001b[38;5;124mffill\u001b[39m\u001b[38;5;124m'\u001b[39m)\n\u001b[0;32m----> 2\u001b[0m forecast \u001b[38;5;241m=\u001b[39m model\u001b[38;5;241m.\u001b[39mpredict(future)\n\u001b[1;32m      3\u001b[0m model\u001b[38;5;241m.\u001b[39mplot(forecast)\n\u001b[1;32m      4\u001b[0m plt\u001b[38;5;241m.\u001b[39mshow()\n",
      "File \u001b[0;32m~/anaconda3/lib/python3.11/site-packages/prophet/forecaster.py:1270\u001b[0m, in \u001b[0;36mProphet.predict\u001b[0;34m(self, df, vectorized)\u001b[0m\n\u001b[1;32m   1268\u001b[0m     \u001b[38;5;28;01mif\u001b[39;00m df\u001b[38;5;241m.\u001b[39mshape[\u001b[38;5;241m0\u001b[39m] \u001b[38;5;241m==\u001b[39m \u001b[38;5;241m0\u001b[39m:\n\u001b[1;32m   1269\u001b[0m         \u001b[38;5;28;01mraise\u001b[39;00m \u001b[38;5;167;01mValueError\u001b[39;00m(\u001b[38;5;124m'\u001b[39m\u001b[38;5;124mDataframe has no rows.\u001b[39m\u001b[38;5;124m'\u001b[39m)\n\u001b[0;32m-> 1270\u001b[0m     df \u001b[38;5;241m=\u001b[39m \u001b[38;5;28mself\u001b[39m\u001b[38;5;241m.\u001b[39msetup_dataframe(df\u001b[38;5;241m.\u001b[39mcopy())\n\u001b[1;32m   1272\u001b[0m df[\u001b[38;5;124m'\u001b[39m\u001b[38;5;124mtrend\u001b[39m\u001b[38;5;124m'\u001b[39m] \u001b[38;5;241m=\u001b[39m \u001b[38;5;28mself\u001b[39m\u001b[38;5;241m.\u001b[39mpredict_trend(df)\n\u001b[1;32m   1273\u001b[0m seasonal_components \u001b[38;5;241m=\u001b[39m \u001b[38;5;28mself\u001b[39m\u001b[38;5;241m.\u001b[39mpredict_seasonal_components(df)\n",
      "File \u001b[0;32m~/anaconda3/lib/python3.11/site-packages/prophet/forecaster.py:303\u001b[0m, in \u001b[0;36mProphet.setup_dataframe\u001b[0;34m(self, df, initialize_scales)\u001b[0m\n\u001b[1;32m    301\u001b[0m     df[name] \u001b[38;5;241m=\u001b[39m pd\u001b[38;5;241m.\u001b[39mto_numeric(df[name])\n\u001b[1;32m    302\u001b[0m     \u001b[38;5;28;01mif\u001b[39;00m df[name]\u001b[38;5;241m.\u001b[39misnull()\u001b[38;5;241m.\u001b[39many():\n\u001b[0;32m--> 303\u001b[0m         \u001b[38;5;28;01mraise\u001b[39;00m \u001b[38;5;167;01mValueError\u001b[39;00m(\n\u001b[1;32m    304\u001b[0m             \u001b[38;5;124m'\u001b[39m\u001b[38;5;124mFound NaN in column \u001b[39m\u001b[38;5;132;01m{name!r}\u001b[39;00m\u001b[38;5;124m'\u001b[39m\u001b[38;5;241m.\u001b[39mformat(name\u001b[38;5;241m=\u001b[39mname)\n\u001b[1;32m    305\u001b[0m         )\n\u001b[1;32m    306\u001b[0m \u001b[38;5;28;01mfor\u001b[39;00m props \u001b[38;5;129;01min\u001b[39;00m \u001b[38;5;28mself\u001b[39m\u001b[38;5;241m.\u001b[39mseasonalities\u001b[38;5;241m.\u001b[39mvalues():\n\u001b[1;32m    307\u001b[0m     condition_name \u001b[38;5;241m=\u001b[39m props[\u001b[38;5;124m'\u001b[39m\u001b[38;5;124mcondition_name\u001b[39m\u001b[38;5;124m'\u001b[39m]\n",
      "\u001b[0;31mValueError\u001b[0m: Found NaN in column 'Độ ẩm'"
     ]
    }
   ],
   "source": [
    "future = future.fillna(method='ffill')\n",
    "forecast = model.predict(future)\n",
    "model.plot(forecast)\n",
    "plt.show()"
   ]
  }
 ],
 "metadata": {
  "kernelspec": {
   "display_name": "base",
   "language": "python",
   "name": "python3"
  },
  "language_info": {
   "codemirror_mode": {
    "name": "ipython",
    "version": 3
   },
   "file_extension": ".py",
   "mimetype": "text/x-python",
   "name": "python",
   "nbconvert_exporter": "python",
   "pygments_lexer": "ipython3",
   "version": "3.11.5"
  }
 },
 "nbformat": 4,
 "nbformat_minor": 2
}
